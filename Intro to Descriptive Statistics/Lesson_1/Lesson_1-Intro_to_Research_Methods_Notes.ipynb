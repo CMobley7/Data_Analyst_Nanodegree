{
 "cells": [
  {
   "cell_type": "markdown",
   "metadata": {},
   "source": [
    "__**Three Factors that Influence the Validity of Results**__\n",
    "1. Sample Size\n",
    "2. Representative Sample\n",
    "3. Sound Methodology\n"
   ]
  },
  {
   "cell_type": "markdown",
   "metadata": {},
   "source": [
    "**Constructs** are an idea or theory containing various conceptual elements, typically one considered to be subjective and not based on empirical evidence."
   ]
  },
  {
   "cell_type": "markdown",
   "metadata": {},
   "source": [
    "**Operational Definitions** are descriptions that allow use to measure constructs."
   ]
  },
  {
   "cell_type": "markdown",
   "metadata": {},
   "source": [
    "**Extraneous Factors** (lurking variables) are variables that are not included as an explanatory or response variable in the analysis but can affect the interpretation of relationships between variables. An extraneous factor (lurking variable) can falsely identify a strong relationship between variables or it can hide the true relationship."
   ]
  },
  {
   "cell_type": "markdown",
   "metadata": {},
   "source": [
    "Population average, $\\mu$\n",
    "\n",
    "Sample average, $\\bar{x}$\n",
    "\n",
    "Sampling error, $\\mu - \\bar{x}$"
   ]
  },
  {
   "cell_type": "markdown",
   "metadata": {},
   "source": [
    "John Venn defined was the first to define randomness in his book called The Logic of Chance. He said, \"Perhaps the best typical example that we can give of the scientific meaning of random distribution is afforded by the arrangement of the drops of rain in a shower. No one can give a guess whereabouts at any instant a drop will fall, but we know that if we put out a sheet of paper it will gradually become uniformly spotted over; and that if we were to mark out any two equal areas on the paper these would gradually tend to be struck equally often.\" "
   ]
  },
  {
   "cell_type": "markdown",
   "metadata": {},
   "source": [
    "The independent variable or predictor variable is places on the y-axis, while the dependent variable or outcome is placed on the y-axis."
   ]
  },
  {
   "cell_type": "markdown",
   "metadata": {},
   "source": [
    "**Correlation** does not prove causation."
   ]
  },
  {
   "cell_type": "markdown",
   "metadata": {},
   "source": [
    "**Example:** \n",
    "\n",
    "Thomas Friedman said in his book, The Lexus and the Olive Tree, that no two counties with a McDonald's have ever gone to war since opening the McDonald's. This is called the Golden Arches Theory of Conflict Prevention. A plausible explanation is that countries with McDonald's are open to globalization and foreign investments, and are thus less inclined to go to war with other open countries."
   ]
  },
  {
   "cell_type": "markdown",
   "metadata": {},
   "source": [
    "Show Relations => Observational Studies and Surveys\n",
    "\n",
    "Show Causation => Controlled Experiments"
   ]
  },
  {
   "cell_type": "markdown",
   "metadata": {},
   "source": [
    "**__Benefits of Surverys__**\n",
    "1. Easy way to get info on a population\n",
    "2. Relativley inexpensive\n",
    "3. Conducted remotely\n",
    "4. Anyone can access & analyze survey results"
   ]
  },
  {
   "cell_type": "markdown",
   "metadata": {},
   "source": [
    "**__Downsides of Surveys__**\n",
    "1. Untruthful responses\n",
    "2. Biased responses\n",
    "3. Respondents not understanding the questions (Response bias)\n",
    "4. Respondents refusing to answer (Non-response bias)"
   ]
  },
  {
   "cell_type": "markdown",
   "metadata": {},
   "source": [
    "**Controlled Experiments**\n",
    "\n",
    "Placebo: Using a placebo allows one to have a comparison group to those who took the active pill.\n",
    "\n",
    "Blind Study: Participants are not told which pill they received to ensure they all believe they are receiving medication.\n",
    "\n",
    "Control group => Placebo\n",
    "\n",
    "Experimental group => Active\n",
    "\n",
    "Double Blind: Researchers are not told which pill the patient(s) received in order to eliminate their potential bias.\n",
    "\n",
    "Within Subject study: Using the same subjects multiple times to rid lurking variables\n"
   ]
  },
  {
   "cell_type": "markdown",
   "metadata": {
    "collapsed": true
   },
   "source": [
    "A sample average is an example of a statistic; while, a population averagte is a parameter.\n",
    "\n",
    "\n"
   ]
  }
 ],
 "metadata": {
  "anaconda-cloud": {},
  "kernelspec": {
   "display_name": "Python [conda root]",
   "language": "python",
   "name": "conda-root-py"
  },
  "language_info": {
   "codemirror_mode": {
    "name": "ipython",
    "version": 3
   },
   "file_extension": ".py",
   "mimetype": "text/x-python",
   "name": "python",
   "nbconvert_exporter": "python",
   "pygments_lexer": "ipython3",
   "version": "3.5.2"
  }
 },
 "nbformat": 4,
 "nbformat_minor": 2
}
