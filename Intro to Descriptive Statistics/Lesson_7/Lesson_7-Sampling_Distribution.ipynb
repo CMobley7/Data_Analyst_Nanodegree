{
 "cells": [
  {
   "cell_type": "markdown",
   "metadata": {},
   "source": [
    "In order to compare a sample in a population to other samples in that population, one must find the mean of this sample and all other samples and then compare them."
   ]
  },
  {
   "cell_type": "markdown",
   "metadata": {},
   "source": [
    "$$\\frac{\\sigma}{SE} = \\sqrt{n}$$\n",
    "\n",
    "where SE is the standard error or standard deviation of sample means."
   ]
  },
  {
   "cell_type": "markdown",
   "metadata": {},
   "source": [
    "The distribution of sample means, where every mean is the mean of a sample size $n$. This distribution has a standard deviation equal to population standard deviation divided by the square root of n, $\\frac{\\sigma}{\\sqrt{n}}=SE$. This is called the Central Limit Theorem."
   ]
  },
  {
   "cell_type": "markdown",
   "metadata": {},
   "source": [
    "As the sample size increases, we have a more accurate respresentation of our population parameters; so, the standard error will decrease. Thus, the sampling distribution narrors as the sample size increases."
   ]
  },
  {
   "cell_type": "markdown",
   "metadata": {
    "collapsed": true
   },
   "source": [
    "The mean of the sample distribution is approximatley the same as the mean of the population."
   ]
  },
  {
   "cell_type": "markdown",
   "metadata": {},
   "source": [
    "**__Central Limit Theorem__**\n",
    "1. The distribution of sample means is approximatley normal\n",
    "2. The standard deviation of the sample means $\\approx \\frac{\\sigma}{\\sqrt{n}}$\n",
    "3. The mean of the sample means $\\approx \\mu$"
   ]
  }
 ],
 "metadata": {
  "kernelspec": {
   "display_name": "Python [conda root]",
   "language": "python",
   "name": "conda-root-py"
  },
  "language_info": {
   "codemirror_mode": {
    "name": "ipython",
    "version": 3
   },
   "file_extension": ".py",
   "mimetype": "text/x-python",
   "name": "python",
   "nbconvert_exporter": "python",
   "pygments_lexer": "ipython3",
   "version": "3.5.2"
  }
 },
 "nbformat": 4,
 "nbformat_minor": 2
}
