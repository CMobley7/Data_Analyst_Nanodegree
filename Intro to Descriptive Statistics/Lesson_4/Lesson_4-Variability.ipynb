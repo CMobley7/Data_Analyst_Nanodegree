{
 "cells": [
  {
   "cell_type": "markdown",
   "metadata": {},
   "source": [
    "The range is the distance between the maximum and minimum values."
   ]
  },
  {
   "cell_type": "markdown",
   "metadata": {},
   "source": [
    "Interquartile Range, $$IQR = Q_{3}-Q_{1}$$"
   ]
  },
  {
   "cell_type": "markdown",
   "metadata": {},
   "source": [
    "Outliers\n",
    "$$Q_{1} - 1.5(IQR)$$\n",
    "\n",
    "$$Q_{3} + 1.5(IQR)$$"
   ]
  },
  {
   "cell_type": "markdown",
   "metadata": {},
   "source": [
    "Sum of Squares, $$SS = \\sum{(x_{i}-\\bar{x})^{2}}$$"
   ]
  },
  {
   "cell_type": "markdown",
   "metadata": {},
   "source": [
    "Variance, the mean of squared deviations\n",
    "\n",
    "$$\\sigma^{2} = \\frac{\\sum{(x_{i}-\\bar{x})^{2}}}{n}$$"
   ]
  },
  {
   "cell_type": "markdown",
   "metadata": {},
   "source": [
    "Standard Deviation is the square root of the variance\n",
    "\n",
    "$$\\sigma = \\sqrt{\\frac{\\sum{(x_{i}-\\bar{x})^{2}}}{n}}$$"
   ]
  },
  {
   "cell_type": "markdown",
   "metadata": {},
   "source": [
    "![Normal Dist Std Properties][normal_dist_std_properties]\n",
    "\n",
    "[normal_dist_std_properties]: normal_dist_std_properties.png \"Normal Dist Std Properties\""
   ]
  },
  {
   "cell_type": "markdown",
   "metadata": {},
   "source": [
    "Sample Standard Deviation, s, which is based on Bessell's correction factor \n",
    "\n",
    "$$s = \\sqrt{\\frac{\\sum{(x_{i}-\\bar{x})^{2}}}{n-1}}$$"
   ]
  },
  {
   "cell_type": "code",
   "execution_count": null,
   "metadata": {
    "collapsed": true
   },
   "outputs": [],
   "source": []
  }
 ],
 "metadata": {
  "anaconda-cloud": {},
  "kernelspec": {
   "display_name": "Python [conda root]",
   "language": "python",
   "name": "conda-root-py"
  },
  "language_info": {
   "codemirror_mode": {
    "name": "ipython",
    "version": 3
   },
   "file_extension": ".py",
   "mimetype": "text/x-python",
   "name": "python",
   "nbconvert_exporter": "python",
   "pygments_lexer": "ipython3",
   "version": "3.5.2"
  }
 },
 "nbformat": 4,
 "nbformat_minor": 2
}
