{
 "cells": [
  {
   "cell_type": "markdown",
   "metadata": {},
   "source": [
    "The mode is the value that appears most often in a set of data. For a histogram, this is not a value  but a range of value or bin with the highest frequency."
   ]
  },
  {
   "cell_type": "markdown",
   "metadata": {},
   "source": [
    "Bimodel distributions have two modes, such as foot size. Females tend to have size 7 while males tend to have size 9."
   ]
  },
  {
   "cell_type": "markdown",
   "metadata": {},
   "source": [
    "The mode can be used to describe any type of data we have, whether it's numberical or categorial."
   ]
  },
  {
   "cell_type": "markdown",
   "metadata": {},
   "source": [
    "$$\\bar{x}=\\frac{x_{1}+x_{2}+\\cdots+x_{n}}{n}$$\n",
    "\n",
    "$$\\bar{x}=\\frac{\\sum_{i=1}^{n}{x_{i}}}{n}$$"
   ]
  },
  {
   "cell_type": "markdown",
   "metadata": {},
   "source": [
    "$$\\mu = \\frac{\\sum{x}}{N}$$"
   ]
  },
  {
   "cell_type": "markdown",
   "metadata": {},
   "source": [
    "**__Properties of the Mean__**\n",
    "1. All scores in the distribution affect the mean\n",
    "2. The mean can be described with a formula\n",
    "3. Many samples from the same population will have similiar means\n",
    "4. The mean of a sample can be used to make inferences about the population it came from\n",
    "5. The mean will change if we add an extreme values to the dataset"
   ]
  },
  {
   "cell_type": "markdown",
   "metadata": {},
   "source": [
    "Once the data has been order from least to greatest or greatest to least, the middle value is the median. If $n$ is even, then the median is the average of the two middle values.\n",
    "\n",
    "When n is even, $\\frac{x_{\\tfrac{n}{2}}+x_{\\tfrac{n}{2}+1}}{2}$; while when n is odd, $x_{\\frac{n+1}{2}}$"
   ]
  },
  {
   "cell_type": "markdown",
   "metadata": {},
   "source": [
    "The median is robust to outliers; however, it does not take every data point into account. The mean does take into account every data point; however, it is susceptible to outliers."
   ]
  },
  {
   "cell_type": "markdown",
   "metadata": {},
   "source": [
    "The median is always the best measure of central tendency when dealing with highly skewed distributions.\n"
   ]
  },
  {
   "cell_type": "markdown",
   "metadata": {},
   "source": [
    "|        | Has a Simple Equation | Will Always Change if Any Data Value Changes | Not Affected by Change in Bin Size | Not Affected Severely by Outliers | Easy to Find on a Histogram |\n",
    "|:------:|:---------------------:|:--------------------------------------------:|:----------------------------------:|:---------------------------------:|:---------------------------:|\n",
    "|  Mean  |           x           |                       x                      |                  x                 |                                   |                             |\n",
    "| Median |                       |                                              |                  x                 |                 x                 |                             |\n",
    "|  Mode  |                       |                                              |                                    |                 x                 |              x              |"
   ]
  }
 ],
 "metadata": {
  "anaconda-cloud": {},
  "kernelspec": {
   "display_name": "Python [conda root]",
   "language": "python",
   "name": "conda-root-py"
  },
  "language_info": {
   "codemirror_mode": {
    "name": "ipython",
    "version": 3
   },
   "file_extension": ".py",
   "mimetype": "text/x-python",
   "name": "python",
   "nbconvert_exporter": "python",
   "pygments_lexer": "ipython3",
   "version": "3.5.2"
  }
 },
 "nbformat": 4,
 "nbformat_minor": 2
}
