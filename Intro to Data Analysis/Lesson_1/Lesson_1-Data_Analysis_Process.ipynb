{
 "cells": [
  {
   "cell_type": "markdown",
   "metadata": {},
   "source": [
    "**__Data Analysis Process__**\n",
    "1. Question\n",
    "2. Wrangle\n",
    "    * Data Acquisition\n",
    "    * Data Cleaning\n",
    "3. Explore\n",
    "    * Build Intuition\n",
    "    * Find Patterns\n",
    "4. Draw Conclusions (or Make Preditions)\n",
    "    * Requires Statistics and/or Machine Learning\n",
    "5. Communicate\n",
    "    * Blog Post, Paper, Email, PowerPoint, Conversation\n",
    "    * Data Visualizition is almost always useful\n",
    "\n",
    "Note: Steps are subject to change"
   ]
  },
  {
   "cell_type": "markdown",
   "metadata": {},
   "source": [
    "**__Data Acquisition__**\n",
    "* Downloading Files\n",
    "* Accessing an API\n",
    "* Scraping a Web Page\n",
    "* Combine Data From Different Formats"
   ]
  },
  {
   "cell_type": "code",
   "execution_count": null,
   "metadata": {
    "collapsed": true
   },
   "outputs": [],
   "source": [
    "## Representing a CSV as a list of rows\n",
    "\n",
    "# Option 1: Each row is a list\n",
    "csv = [['A1','A2','A3'],\n",
    "       ['B2', 'B2', 'B3']]\n",
    "\n",
    "# Option 2: Each row is a dictionary\n",
    "\n",
    "csv = [{'name1': 'A1', 'name2': 'A2', 'name3': 'A3'},\n",
    "       {'name1': 'B1', 'name2': 'B2', 'name3': 'B3'}]"
   ]
  },
  {
   "cell_type": "markdown",
   "metadata": {},
   "source": [
    "**Correlation does not __imply__ causation**\n",
    "\n",
    "In order to determine causation online, an A/B test needs to be run"
   ]
  },
  {
   "cell_type": "code",
   "execution_count": null,
   "metadata": {},
   "outputs": [],
   "source": []
  }
 ],
 "metadata": {
  "kernelspec": {
   "display_name": "Python 2",
   "language": "python",
   "name": "python2"
  },
  "language_info": {
   "codemirror_mode": {
    "name": "ipython",
    "version": 2
   },
   "file_extension": ".py",
   "mimetype": "text/x-python",
   "name": "python",
   "nbconvert_exporter": "python",
   "pygments_lexer": "ipython2",
   "version": "2.7.12"
  }
 },
 "nbformat": 4,
 "nbformat_minor": 2
}
