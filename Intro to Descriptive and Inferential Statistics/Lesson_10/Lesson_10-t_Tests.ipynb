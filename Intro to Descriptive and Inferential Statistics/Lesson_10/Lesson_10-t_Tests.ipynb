{
 "cells": [
  {
   "cell_type": "markdown",
   "metadata": {
    "collapsed": true
   },
   "source": [
    "s approaches $\\sigma$, as n increases\n",
    "\n",
    "$$s = \\sqrt{\\frac{\\sum{(x_{i}-\\bar{x})^{2}}}{n-1}}$$"
   ]
  },
  {
   "cell_type": "markdown",
   "metadata": {},
   "source": [
    "mean, $\\mu$\n",
    "\n",
    "SE, $\\frac{\\sigma}{\\sqrt{n}}$\n",
    "\n",
    "z, $\\frac{\\bar{x}-\\mu}{SE}$"
   ]
  },
  {
   "cell_type": "markdown",
   "metadata": {},
   "source": [
    "Without knowning the population parameters, $\\mu$ and $\\sigma$, the sampling distribution becomes the t distribution\n",
    "\n",
    "$$t = \\frac{\\bar{x}-\\mu_{0}}{\\frac{s}{\\sqrt{n}}}$$"
   ]
  },
  {
   "cell_type": "markdown",
   "metadata": {},
   "source": [
    "**Degrees of Freedom** is the number of values in the final calculation of a statistic that are free to vary."
   ]
  },
  {
   "cell_type": "markdown",
   "metadata": {},
   "source": [
    "Cohen's d is a standardized mean difference that measures the distance between means in standardized units.\n",
    "\n",
    "Cohen's D = $$\\frac{\\bar{x}-\\mu}{s}$$"
   ]
  },
  {
   "cell_type": "markdown",
   "metadata": {},
   "source": [
    "Margin of error, half the width of the confidence interval; so, the margin of error equals\n",
    "\n",
    "$$t * \\frac{s}{\\sqrt{n}}$$"
   ]
  },
  {
   "cell_type": "markdown",
   "metadata": {},
   "source": [
    "Dependent t-test for paired samples\n",
    "\n",
    "Within-subject designs\n",
    "* Two conditions, $H_{0}:\\ \\mu_{1}=\\mu_{2}$\n",
    "* Pre-Test, Post-Test, $H_{0}:\\ \\mu_{pre}=\\mu_{post}$\n",
    "* Growth over time (longitudinal study), $H_{0}:\\ \\mu_{time1}=\\mu_{time2}$"
   ]
  },
  {
   "cell_type": "markdown",
   "metadata": {},
   "source": [
    "We can follow the same procedure for a 1 sample t-test except the values of D are used.\n",
    "\n",
    "| $x_{i}$  | $y_{i}$  | $D_{i}=x_{i}-y_{i}$ |\n",
    "|----------|----------|---------------------|\n",
    "| $x_{1}$  | $y_{1}$  | $D_{1}=x_{1}-y_{1}$ |\n",
    "| $x_{2}$  | $y_{2}$  | $D_{2}=x_{2}-y_{2}$ |\n",
    "| $\\vdots$ | $\\vdots$ | $\\vdots$            |\n",
    "| $x_{n}$  | $y_{n}$  | $D_{n}=x_{n}-y_{n}$ |"
   ]
  },
  {
   "cell_type": "markdown",
   "metadata": {},
   "source": [
    "**Effect Size**\n",
    "\n",
    "In experimental studies, or studies with a treatment variable, the effect size refers to the size of a treatment effect\n",
    "\n",
    "In non-experimental studies, the effect size may refer to the strength of the relationship between the variables.\n",
    "\n",
    "In a z or t test, the simplest measure of effect size is the mean difference, which is good for variables which have an everyday meaning"
   ]
  },
  {
   "cell_type": "markdown",
   "metadata": {},
   "source": [
    "**__Types of Effect Size Measures__**\n",
    "\n",
    "**Difference Measures**\n",
    "* Mean Difference\n",
    "* Standardized Differences\n",
    "  * Cohen's D: SD Units\n",
    "  \n",
    "**Correlation Measures**\n",
    "* $R^2$ (Coefficient of Determination): proportion (%) of variation in one variable that is related to (\"explained by\") another variable\n",
    "\n",
    "$$R^2 = \\frac{t^{2}}{t^{2}+df}$$"
   ]
  },
  {
   "cell_type": "markdown",
   "metadata": {},
   "source": [
    "Statistical Significance merely means that the null hypothesis has been rejected and that the results are not likely due to chance (sampling error)"
   ]
  },
  {
   "cell_type": "markdown",
   "metadata": {},
   "source": [
    "**__Meaningfulness of Results__**\n",
    "1. What was measured\n",
    "  * variables - practical, social, or theoretical importance\n",
    "2. Effect Size\n",
    "3. Can Random Chance be Ruled Out\n",
    "4. Can Alternative Explanations (Lurking Variables) be Ruled Out"
   ]
  },
  {
   "cell_type": "markdown",
   "metadata": {},
   "source": [
    "**__Results Section Include__**\n",
    "1. Descriptive Statistics (M,STD)\n",
    "  * in Text\n",
    "  * in Graphs\n",
    "  * in Tables\n",
    "2. Inferential Statistics\n",
    "  * Hypothesis Test\n",
    "    * Kind of Test, e.g., one-sample t test\n",
    "    * Alpha Level\n",
    "    * Test Statistic\n",
    "    * DF\n",
    "    * P-value\n",
    "    * Direction of Test\n",
    "  * Confidence Intervals\n",
    "    * Confidence Level, e.g., 95%\n",
    "    * Lower Limit\n",
    "    * Upper Limit\n",
    "    * CI on what?\n",
    "  * Effect Size Measures\n",
    "    * Cohen's D, $R^2$"
   ]
  },
  {
   "cell_type": "code",
   "execution_count": null,
   "metadata": {
    "collapsed": true
   },
   "outputs": [],
   "source": []
  }
 ],
 "metadata": {
  "kernelspec": {
   "display_name": "Python [conda root]",
   "language": "python",
   "name": "conda-root-py"
  },
  "language_info": {
   "codemirror_mode": {
    "name": "ipython",
    "version": 3
   },
   "file_extension": ".py",
   "mimetype": "text/x-python",
   "name": "python",
   "nbconvert_exporter": "python",
   "pygments_lexer": "ipython3",
   "version": "3.5.2"
  }
 },
 "nbformat": 4,
 "nbformat_minor": 2
}
