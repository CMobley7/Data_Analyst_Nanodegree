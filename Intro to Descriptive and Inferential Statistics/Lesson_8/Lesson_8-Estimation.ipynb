{
 "cells": [
  {
   "cell_type": "markdown",
   "metadata": {},
   "source": [
    "Approximatley 95% of sample means fall within $\\frac{2\\sigma}{\\sqrt{n}}$ of the population mean, where $\\frac{2\\sigma}{\\sqrt{n}}$ is the margin of error."
   ]
  },
  {
   "cell_type": "markdown",
   "metadata": {},
   "source": [
    "95% Confidence Interval\n",
    "$$(\\bar{x} - 1.96 \\frac{\\sigma}{\\sqrt{n}}, \\bar{x} + 1.96 \\frac{\\sigma}{\\sqrt{n}} )$$"
   ]
  },
  {
   "cell_type": "markdown",
   "metadata": {},
   "source": [
    "Y% Confidence Interval\n",
    "$$(\\bar{x} - z \\frac{\\sigma}{\\sqrt{n}}, \\bar{x} + z \\frac{\\sigma}{\\sqrt{n}} )$$\n"
   ]
  },
  {
   "cell_type": "markdown",
   "metadata": {},
   "source": [
    "A point estimate is the mean of a sample of size $n$ who have had the intervention. They do not account for sampling error; thus, a confidence interval must be constructed to find the likely range of the true population mean."
   ]
  },
  {
   "cell_type": "markdown",
   "metadata": {},
   "source": [
    "The margin of error is half the width of the confidence interval"
   ]
  }
 ],
 "metadata": {
  "kernelspec": {
   "display_name": "Python [conda root]",
   "language": "python",
   "name": "conda-root-py"
  },
  "language_info": {
   "codemirror_mode": {
    "name": "ipython",
    "version": 3
   },
   "file_extension": ".py",
   "mimetype": "text/x-python",
   "name": "python",
   "nbconvert_exporter": "python",
   "pygments_lexer": "ipython3",
   "version": "3.5.2"
  }
 },
 "nbformat": 4,
 "nbformat_minor": 2
}
