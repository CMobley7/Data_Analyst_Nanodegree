{
 "cells": [
  {
   "cell_type": "markdown",
   "metadata": {},
   "source": [
    "**__$\\alpha$ Levels__**, criteria for determining whether something is likely or unlikely. If the probabiltiy is less than alpha then it is considered unlikely. Typically alpha level used are included below.\n",
    "\n",
    "$\\alpha = 0.05\\ (5\\%)$ which corresponds to a z score of 1.65 and 1.96 for one and two tail test respectivley \n",
    "\n",
    "$\\alpha = 0.01\\  (1\\%)$ which corresponds to a z score of 2.32 and 2.57 for one and two tail test respectivley \n",
    "\n",
    "$\\alpha = 0.001\\ (0.1\\%)$ which corresponds to a z score of 3.08 and 3.27 for one and two tail test respectivley "
   ]
  },
  {
   "cell_type": "markdown",
   "metadata": {},
   "source": [
    "**__The critical value of z, $z^*$__**, is the z score value which cuts off the critical region from the rest of the distribution."
   ]
  },
  {
   "cell_type": "markdown",
   "metadata": {},
   "source": [
    "z score,\n",
    "\n",
    "$$z = \\frac{\\bar{x}-\\mu}{(\\frac{\\sigma}{\\sqrt{n}})}$$"
   ]
  },
  {
   "cell_type": "markdown",
   "metadata": {},
   "source": [
    "**__One Tail Test Example__**\n",
    "\n",
    "![One Tail Critical Regions][one_tail_critical_regions]\n",
    "\n",
    "[one_tail_critical_regions]: one_tail_critical_regions.png \"One Tail Critical Regions\""
   ]
  },
  {
   "cell_type": "markdown",
   "metadata": {},
   "source": [
    "**__Two Tail Test Example__**\n",
    "\n",
    "![Two Tail Critical Regions][two_tail_critical_regions]\n",
    "\n",
    "[two_tail_critical_regions]: two_tail_critical_regions.png \"Two Tail Critical Regions\""
   ]
  },
  {
   "cell_type": "markdown",
   "metadata": {},
   "source": [
    "$H_{0}$ is the null hypothesis, assumes that there is no significant difference between the current population parameters and what will be the new population parameters after some sort of intervention.\n",
    "\n",
    "$$\\mu = \\mu_{I}$$\n",
    "\n",
    "$H_{a}$ is the alternative hypothesis, guesses that there will be a significant difference. Consequently,\n",
    "\n",
    "$$\\mu < \\mu_{I}$$\n",
    "$$\\mu > \\mu_{I}$$\n",
    "$$\\mu \\neq \\mu_{I}$$"
   ]
  },
  {
   "cell_type": "markdown",
   "metadata": {},
   "source": [
    "![Alternative Hypothesis][alternative_hypothesis]\n",
    "\n",
    "[alternative_hypothesis]: alternative_hypothesis.png \"Alternative Hypothesis\""
   ]
  },
  {
   "cell_type": "markdown",
   "metadata": {
    "collapsed": true
   },
   "source": [
    "If we reject the null hypothesis:\n",
    "\n",
    "1. The sample mean falls within the critical region\n",
    "2. The z-score of the sample mean is greater than the z-critical value.\n",
    "3. The probability of obtaining the sample mean is less than the alpha level."
   ]
  },
  {
   "cell_type": "markdown",
   "metadata": {},
   "source": [
    "Type I and II errors\n",
    "\n",
    "![Type of Errors][type_of_errors]\n",
    "\n",
    "[type_of_errors]: type_of_errors.png \"Type of Errors\""
   ]
  }
 ],
 "metadata": {
  "kernelspec": {
   "display_name": "Python [conda root]",
   "language": "python",
   "name": "conda-root-py"
  },
  "language_info": {
   "codemirror_mode": {
    "name": "ipython",
    "version": 3
   },
   "file_extension": ".py",
   "mimetype": "text/x-python",
   "name": "python",
   "nbconvert_exporter": "python",
   "pygments_lexer": "ipython3",
   "version": "3.5.2"
  }
 },
 "nbformat": 4,
 "nbformat_minor": 2
}
